{
 "cells": [
  {
   "cell_type": "markdown",
   "metadata": {
    "collapsed": true
   },
   "source": [
    "# Who's registered twice?\n",
    "Automation: A proof of concept\n",
    "\n",
    "<img src=\"images/iterative_process_diagram_Slide01.jpg\" alt=\"Iterative design process diagram\" width=\"600\">\n",
    "\n",
    "\n",
    "As a growing organization, we take on new members each and every day, making it imperative that our records stay \"clean\". Having incomplete, incorrectly-input or duplicate records can seriously bloat the costs of managing information within an organization, but the process for developing technologies to counter this problem has never been more accessible than it is today.\n",
    "\n",
    "<ul>\n",
    "    <li>If there are incomplete records, members may not be accounted for in some cases.</li>\n",
    "    <li>If some records contain incompatible formats or incorrect information, processing data is much more cumbersome to handle as a programmer. </li>\n",
    "    <li>If duplicate entries are not caught as they occur, the costs of storing and using our own information is guarenteed to increase exorbitantly.</li>\n",
    "    <li>Python is a programming language that is designed to be easily read and intuitive to implement.</li>\n",
    "</ul>"
   ]
  },
  {
   "cell_type": "markdown",
   "metadata": {},
   "source": [
    "### Coding useful implementations\n",
    "<p style=\"font-size:14px\">Python makes it quite easy to use code that we have previously developed, so it's also important to build programs with this in mind! \n",
    "    Through simple and modular<sup>1</sup> development, we can apply the same code to many similar problems or build upon previous ideas. Here we are going to import the contents of an entire file as well as a single function from Python programs which I built for this demonstration.</p> \n",
    "\n",
    "<br>\n",
    "\n",
    "<p style=\"font-size:10px\"><a href=\"https://en.wikipedia.org/wiki/Modular_programming\" target=\"blank_\">[1]</a><em> Modular programming approach: a software design technique that emphasizes separating the functionality of a program into independent, interchangeable modules, such that each contains everything necessary to execute only one aspect of the desired functionality.</em></p>"
   ]
  },
  {
   "cell_type": "code",
   "execution_count": 1,
   "metadata": {
    "pycharm": {
     "is_executing": true
    }
   },
   "outputs": [],
   "source": [
    "from duplicate_check_functions import duplicate_check\n",
    "import duplicate_check_gen"
   ]
  },
  {
   "cell_type": "markdown",
   "metadata": {},
   "source": [
    "These are two Python files I have created to handle our data today, name_check_functions.py and name_check_gen.py\n",
    "\n",
    "\n",
    "For our data I used a <a href=\"http://convertcsv.com/generate-test-data.htm\" target=\"_blank\">program</a> that creates randomly generated values for our chosen fields or \"keys.\"\n",
    "\n",
    "Our keys represent the different information that our members may provide at registration (such as names, email addresses, phone numbers, etc).\n",
    "\n",
    "<br>\n",
    "\n",
    "<p style=\"font-size:12px\"><a href=\"https://en.wikipedia.org/wiki/Comma-separated_values\" target=\"_blank\">CSV</a><em>: A comma-separated value file. This file format is simple to work with, which is why I have chosen it for this project.</em><p>"
   ]
  },
  {
   "cell_type": "code",
   "execution_count": 2,
   "metadata": {},
   "outputs": [
    {
     "name": "stdout",
     "output_type": "stream",
     "text": [
      "['index', 'date', 'name', 'email', 'phone']\n"
     ]
    }
   ],
   "source": [
    "# A list of our keys\n",
    "keys = duplicate_check_gen.reader.fieldnames\n",
    "print(keys)"
   ]
  },
  {
   "cell_type": "markdown",
   "metadata": {},
   "source": [
    "Knowing the exact name of our keys is important as words are case-sensitive in Python. Having a list of them makes it easy to use as well.\n",
    "\n",
    "\n",
    "From name_check_functions.py we are importing a function that I have designed which allows us to open two separate CSV files and to compare their records on our designated key."
   ]
  },
  {
   "cell_type": "code",
   "execution_count": 3,
   "metadata": {},
   "outputs": [
    {
     "name": "stdout",
     "output_type": "stream",
     "text": [
      "Number of duplicates found: 13\n"
     ]
    }
   ],
   "source": [
    "duplicate_check(key='name')"
   ]
  },
  {
   "cell_type": "markdown",
   "metadata": {},
   "source": [
    "Without further prompting, our program will only check for the duplicated records by name and print the quantity of duplicates. However, if we add an additional argument<sup>1</sup> to our function call we can create a new CSV file containing these duplicates, as well as telling our program what we would like its title to be.\n",
    "\n",
    "<br>\n",
    "\n",
    "<p style=\"font-size:12px\">[1] Arguments are special inputs that our program is built to be able to work with. If we were to use an invalid argument, Python would not execute the program but would send us an error message calling it an \"unexpected keyword argument\"</p>"
   ]
  },
  {
   "cell_type": "code",
   "execution_count": 4,
   "metadata": {},
   "outputs": [
    {
     "name": "stdout",
     "output_type": "stream",
     "text": [
      "Number of duplicates found: 13\n",
      "New file created!\n"
     ]
    }
   ],
   "source": [
    "duplicate_check(key='name', title='ORG-ABBV_date')"
   ]
  },
  {
   "cell_type": "markdown",
   "metadata": {},
   "source": [
    "We found the extra records and collected them into a new file! \n",
    "\n",
    "\n",
    "<p style=\"font-size:11px\">Note: The creation of a new file is not entirely necessary, however I found it potent to describe how easy a program can be modified to meet our needs.<p>\n",
    "\n",
    "---"
   ]
  },
  {
   "cell_type": "markdown",
   "metadata": {},
   "source": [
    "## Conclusion\n",
    "\n",
    "___\n",
    "\n",
    "As we can see, there is abundant potential to automate out our tedious office tasks, freeing up our time to support our organization in other ways as well as allowing us to share our efforts with others. There are plenty of platforms which allow us to manage and share our code for free which grants a couple benefits, like community collaboration and total information-processing transparency. (see: <a href=\"https://github.com\" target=\"_blank\">github.com</a>)\n",
    "\n",
    "---\n",
    "\n",
    "Python is currently one of the most popular programming languages for automation; however programming is only a form of problem-solving and once techniques are learned, they can be generalized and applied in many programming languages or even for non-computational uses. \n",
    "\n",
    "Learning to program fosters an intuitive form of information literacy. Without necessarily studying advanced mathematical concepts we can access raw information and uncover many important insights using processes built on mathematical foundations. This abstraction of mathematics allows us to process information as objects in relation to each other. Meaning that variables are no longer just the x and y we all learned in algebra, these variables are meaningful information and named so.\n",
    "\n",
    "Computational automation, like many things, does have trade-offs: computers are excellent at doing one thing repetitively, so while there are many tasks we may be able to take our hands off, it is important to ask if we need a computer at all."
   ]
  },
  {
   "cell_type": "markdown",
   "metadata": {},
   "source": [
    "# Author\n",
    "\n",
    "<p style=\"font-size:18px\">Lily Yake</p><p><em>She/Her, They/Them</em></p>\n",
    "\n",
    "<a href=\"https://www.github.com/l-yake/\" target=\"_blank\">Github Profile</a>\n",
    "    \n",
    "<a href=\"https://www.linkedin.com/in/lily-yake/\" target=\"_blank\">Linkedin Profile</a>\n",
    "\n",
    "<br>\n",
    "\n",
    "<p style=\"font-size:12px\">Please contact me with any questions or concerns regarding this notebook or related programs.</p>"
   ]
  }
 ],
 "metadata": {
  "@webio": {
   "lastCommId": null,
   "lastKernelId": null
  },
  "kernelspec": {
   "display_name": "Python 3",
   "language": "python",
   "name": "python3"
  },
  "language_info": {
   "codemirror_mode": {
    "name": "ipython",
    "version": 3
   },
   "file_extension": ".py",
   "mimetype": "text/x-python",
   "name": "python",
   "nbconvert_exporter": "python",
   "pygments_lexer": "ipython3",
   "version": "3.8.5"
  }
 },
 "nbformat": 4,
 "nbformat_minor": 1
}
